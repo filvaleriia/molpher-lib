{
 "cells": [
  {
   "cell_type": "code",
   "execution_count": 1,
   "metadata": {},
   "outputs": [],
   "source": [
    "from rdkit import Chem\n",
    "from rdkit.Chem.Draw import IPythonConsole\n",
    "from rdkit.Chem.Draw.MolDrawing import MolDrawing, DrawingOptions\n",
    "\n",
    "IPythonConsole.ipython_useSVG = False\n",
    "DrawingOptions.includeAtomNumbers=True"
   ]
  },
  {
   "cell_type": "code",
   "execution_count": 2,
   "metadata": {},
   "outputs": [],
   "source": [
    "from molpher.core import ExplorationTree as ETree\n",
    "from molpher.core import MolpherMol\n",
    "\n",
    "captopril = MolpherMol(\"captopril.sdf\")\n",
    "tree = ETree.create(source=captopril)"
   ]
  },
  {
   "cell_type": "code",
   "execution_count": 3,
   "metadata": {},
   "outputs": [
    {
     "data": {
      "image/png": "[encoded data removed]",
      "text/plain": [
       "<rdkit.Chem.rdchem.Mol at 0x7f8c2073ee40>"
      ]
     },
     "execution_count": 3,
     "metadata": {},
     "output_type": "execute_result"
    }
   ],
   "source": [
    "tree.leaves[0].asRDMol()"
   ]
  },
  {
   "cell_type": "code",
   "execution_count": 5,
   "metadata": {},
   "outputs": [
    {
     "name": "stdout",
     "output_type": "stream",
     "text": [
      "Source:  CC(CS)C(=O)N1CCCC1C(=O)O\n"
     ]
    }
   ],
   "source": [
    "print('Source: ', tree.params['source'])"
   ]
  },
  {
   "cell_type": "code",
   "execution_count": 7,
   "metadata": {},
   "outputs": [
    {
     "data": {
      "text/plain": [
       "{'source': 'CC(CS)C(=O)N1CCCC1C(=O)O',\n",
       " 'target': None,\n",
       " 'operators': ('OP_ADD_ATOM',\n",
       "  'OP_REMOVE_ATOM',\n",
       "  'OP_ADD_BOND',\n",
       "  'OP_REMOVE_BOND',\n",
       "  'OP_MUTATE_ATOM',\n",
       "  'OP_INTERLAY_ATOM',\n",
       "  'OP_BOND_REROUTE',\n",
       "  'OP_BOND_CONTRACTION'),\n",
       " 'fingerprint': 'FP_MORGAN',\n",
       " 'similarity': 'SC_TANIMOTO',\n",
       " 'weight_min': 0.0,\n",
       " 'weight_max': 100000.0,\n",
       " 'accept_min': 50,\n",
       " 'accept_max': 100,\n",
       " 'far_produce': 80,\n",
       " 'close_produce': 150,\n",
       " 'far_close_threshold': 0.15,\n",
       " 'max_morphs_total': 1500,\n",
       " 'non_producing_survive': 5}"
      ]
     },
     "execution_count": 7,
     "metadata": {},
     "output_type": "execute_result"
    }
   ],
   "source": [
    "tree.params"
   ]
  },
  {
   "cell_type": "code",
   "execution_count": 10,
   "metadata": {},
   "outputs": [
    {
     "data": {
      "text/plain": [
       "{'source': 'CC(CS)C(=O)N1CCCC1C(=O)O',\n",
       " 'target': None,\n",
       " 'operators': ('OP_ADD_ATOM',\n",
       "  'OP_REMOVE_ATOM',\n",
       "  'OP_ADD_BOND',\n",
       "  'OP_REMOVE_BOND',\n",
       "  'OP_MUTATE_ATOM',\n",
       "  'OP_INTERLAY_ATOM',\n",
       "  'OP_BOND_REROUTE',\n",
       "  'OP_BOND_CONTRACTION'),\n",
       " 'fingerprint': 'FP_MORGAN',\n",
       " 'similarity': 'SC_TANIMOTO',\n",
       " 'weight_min': 0.0,\n",
       " 'weight_max': 500.0,\n",
       " 'accept_min': 50,\n",
       " 'accept_max': 100,\n",
       " 'far_produce': 80,\n",
       " 'close_produce': 150,\n",
       " 'far_close_threshold': 0.15,\n",
       " 'max_morphs_total': 1500,\n",
       " 'non_producing_survive': 2}"
      ]
     },
     "execution_count": 10,
     "metadata": {},
     "output_type": "execute_result"
    }
   ],
   "source": [
    "tree.params = {\n",
    "    'non_producing_survive' : 2\n",
    "    , 'weight_max' : 500.0\n",
    "}\n",
    "tree.params"
   ]
  },
  {
   "cell_type": "code",
   "execution_count": null,
   "metadata": {},
   "outputs": [],
   "source": [
    "from rdkit.Chem.Draw import MolsToGridImage\n",
    "\n",
    "def get_locked_atoms(mol):\n",
    "    return [(idx, atm) for idx, atm in enumerate(mol.atoms) if atm.is_locked]\n",
    "\n",
    "def show_mol_grid(mols):\n",
    "    locked_atoms = [[y[0] for y in get_locked_atoms(x)] for x in mols]\n",
    "    return MolsToGridImage(\n",
    "        [x.asRDMol() for x in mols]\n",
    "        , subImgSize=(250,200)\n",
    "        , highlightAtomLists=locked_atoms\n",
    "        , legends=[x.parent_operator for x in mols]\n",
    "    )\n",
    "\n",
    "mol = MolpherMol(\"captopril.sdf\")\n",
    "show_mol_grid([mol])"
   ]
  },
  {
   "cell_type": "code",
   "execution_count": null,
   "metadata": {},
   "outputs": [],
   "source": [
    "for idx, atom in enumerate(mol.atoms):\n",
    "    print(idx+1, atom.getLockingMask())"
   ]
  },
  {
   "cell_type": "code",
   "execution_count": null,
   "metadata": {},
   "outputs": [],
   "source": [
    "from molpher.core import ExplorationTree\n",
    "\n",
    "tree = ExplorationTree.create(source=mol)\n",
    "tree.generateMorphs()\n",
    "tree.sortMorphs()\n",
    "tree.filterMorphs()\n",
    "tree.extend()\n",
    "show_mol_grid(tree.leaves)"
   ]
  },
  {
   "cell_type": "code",
   "execution_count": null,
   "metadata": {},
   "outputs": [],
   "source": []
  }
 ],
 "metadata": {
  "kernelspec": {
   "display_name": "Python 3",
   "language": "python",
   "name": "python3"
  },
  "language_info": {
   "codemirror_mode": {
    "name": "ipython",
    "version": 3
   },
   "file_extension": ".py",
   "mimetype": "text/x-python",
   "name": "python",
   "nbconvert_exporter": "python",
   "pygments_lexer": "ipython3",
   "version": "3.6.5"
  }
 },
 "nbformat": 4,
 "nbformat_minor": 2
}
