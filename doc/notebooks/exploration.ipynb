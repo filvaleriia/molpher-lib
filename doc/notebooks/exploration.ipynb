{
 "cells": [
  {
   "cell_type": "code",
   "execution_count": 1,
   "metadata": {},
   "outputs": [],
   "source": [
    "from rdkit import Chem\n",
    "from rdkit.Chem.Draw import IPythonConsole\n",
    "from rdkit.Chem.Draw.MolDrawing import MolDrawing, DrawingOptions\n",
    "\n",
    "IPythonConsole.ipython_useSVG = False\n",
    "DrawingOptions.includeAtomNumbers=True"
   ]
  },
  {
   "cell_type": "code",
   "execution_count": 2,
   "metadata": {},
   "outputs": [],
   "source": [
    "from molpher.core import ExplorationTree as ETree\n",
    "from molpher.core import MolpherMol\n",
    "\n",
    "captopril = MolpherMol(\"captopril.sdf\")\n",
    "tree = ETree.create(source=captopril)"
   ]
  },
  {
   "cell_type": "code",
   "execution_count": 3,
   "metadata": {},
   "outputs": [
    {
     "data": {
      "image/png": "[encoded data removed]",
      "text/plain": [
       "<rdkit.Chem.rdchem.Mol at 0x7f280fba3210>"
      ]
     },
     "execution_count": 3,
     "metadata": {},
     "output_type": "execute_result"
    }
   ],
   "source": [
    "tree.leaves[0].asRDMol()"
   ]
  },
  {
   "cell_type": "code",
   "execution_count": 4,
   "metadata": {},
   "outputs": [
    {
     "name": "stdout",
     "output_type": "stream",
     "text": [
      "Source:  CC(CS)C(=O)N1CCCC1C(=O)O\n"
     ]
    }
   ],
   "source": [
    "print('Source: ', tree.params['source'])"
   ]
  },
  {
   "cell_type": "code",
   "execution_count": 5,
   "metadata": {},
   "outputs": [
    {
     "data": {
      "text/plain": [
       "{'source': 'CC(CS)C(=O)N1CCCC1C(=O)O',\n",
       " 'target': None,\n",
       " 'operators': ('OP_ADD_ATOM',\n",
       "  'OP_REMOVE_ATOM',\n",
       "  'OP_ADD_BOND',\n",
       "  'OP_REMOVE_BOND',\n",
       "  'OP_MUTATE_ATOM',\n",
       "  'OP_INTERLAY_ATOM',\n",
       "  'OP_BOND_REROUTE',\n",
       "  'OP_BOND_CONTRACTION'),\n",
       " 'fingerprint': 'FP_MORGAN',\n",
       " 'similarity': 'SC_TANIMOTO',\n",
       " 'weight_min': 0.0,\n",
       " 'weight_max': 100000.0,\n",
       " 'accept_min': 50,\n",
       " 'accept_max': 100,\n",
       " 'far_produce': 80,\n",
       " 'close_produce': 150,\n",
       " 'far_close_threshold': 0.15,\n",
       " 'max_morphs_total': 1500,\n",
       " 'non_producing_survive': 5}"
      ]
     },
     "execution_count": 5,
     "metadata": {},
     "output_type": "execute_result"
    }
   ],
   "source": [
    "tree.params"
   ]
  },
  {
   "cell_type": "code",
   "execution_count": 6,
   "metadata": {},
   "outputs": [
    {
     "data": {
      "text/plain": [
       "{'source': 'CC(CS)C(=O)N1CCCC1C(=O)O',\n",
       " 'target': None,\n",
       " 'operators': ('OP_ADD_ATOM',\n",
       "  'OP_REMOVE_ATOM',\n",
       "  'OP_ADD_BOND',\n",
       "  'OP_REMOVE_BOND',\n",
       "  'OP_MUTATE_ATOM',\n",
       "  'OP_INTERLAY_ATOM',\n",
       "  'OP_BOND_REROUTE',\n",
       "  'OP_BOND_CONTRACTION'),\n",
       " 'fingerprint': 'FP_MORGAN',\n",
       " 'similarity': 'SC_TANIMOTO',\n",
       " 'weight_min': 0.0,\n",
       " 'weight_max': 500.0,\n",
       " 'accept_min': 50,\n",
       " 'accept_max': 100,\n",
       " 'far_produce': 80,\n",
       " 'close_produce': 150,\n",
       " 'far_close_threshold': 0.15,\n",
       " 'max_morphs_total': 1500,\n",
       " 'non_producing_survive': 2}"
      ]
     },
     "execution_count": 6,
     "metadata": {},
     "output_type": "execute_result"
    }
   ],
   "source": [
    "tree.params = {\n",
    "    'non_producing_survive' : 2\n",
    "    , 'weight_max' : 500.0\n",
    "}\n",
    "tree.params"
   ]
  },
  {
   "cell_type": "code",
   "execution_count": 7,
   "metadata": {},
   "outputs": [
    {
     "name": "stdout",
     "output_type": "stream",
     "text": [
      "(<molpher.core.MolpherMol.MolpherMol at 0x7f280fb91750>,)\n"
     ]
    },
    {
     "data": {
      "image/png": "[encoded data removed]",
      "text/plain": [
       "<rdkit.Chem.rdchem.Mol at 0x7f280e8cc6c0>"
      ]
     },
     "execution_count": 7,
     "metadata": {},
     "output_type": "execute_result"
    }
   ],
   "source": [
    "print(tree.leaves) # show the current leaves of the tree (only the source so far)\n",
    "tree.leaves[0].asRDMol()"
   ]
  },
  {
   "cell_type": "code",
   "execution_count": 8,
   "metadata": {},
   "outputs": [
    {
     "name": "stdout",
     "output_type": "stream",
     "text": [
      "26\n"
     ]
    }
   ],
   "source": [
    "tree.generateMorphs()\n",
    "print(len(tree.candidates))"
   ]
  },
  {
   "cell_type": "code",
   "execution_count": 9,
   "metadata": {},
   "outputs": [
    {
     "data": {
      "text/plain": [
       "{1.7976931348623157e+308}"
      ]
     },
     "execution_count": 9,
     "metadata": {},
     "output_type": "execute_result"
    }
   ],
   "source": [
    "{x.dist_to_target for x in tree.candidates}"
   ]
  },
  {
   "cell_type": "code",
   "execution_count": 10,
   "metadata": {},
   "outputs": [
    {
     "name": "stdout",
     "output_type": "stream",
     "text": [
      "22\n"
     ]
    },
    {
     "data": {
      "text/plain": [
       "[4.336516757110866,\n",
       " 4.276268757046271,\n",
       " 4.220099467161214,\n",
       " 3.9938638051851627,\n",
       " 3.9220880467166013,\n",
       " 4.235814100494546,\n",
       " 4.304767951403637,\n",
       " 3.804751376555311,\n",
       " 3.8871106534610247,\n",
       " 4.076862613435724,\n",
       " 3.3191105796423788,\n",
       " 4.161464339486345,\n",
       " 3.404002369297247,\n",
       " 4.404706288979395,\n",
       " 4.301058484023958,\n",
       " 3.613205289055311,\n",
       " 3.9366697951036973,\n",
       " 3.9784865729838823,\n",
       " 4.3714010271612125,\n",
       " 4.361411975646062,\n",
       " 4.317625951403638,\n",
       " 4.2257588949773055]"
      ]
     },
     "execution_count": 10,
     "metadata": {},
     "output_type": "execute_result"
    }
   ],
   "source": [
    "def sascore_as_obj(morph, operator):\n",
    "    morph.dist_to_target = morph.sascore\n",
    "    \n",
    "tree.generateMorphs([sascore_as_obj])\n",
    "print(len(tree.candidates))\n",
    "[x.dist_to_target for x in tree.candidates]"
   ]
  },
  {
   "cell_type": "code",
   "execution_count": 11,
   "metadata": {},
   "outputs": [
    {
     "data": {
      "text/plain": [
       "[('CC(C)C(=O)N1CCCC1C(=O)O', 3.3191105796423788),\n",
       " ('CCC(C)C(=O)N1CCCC1C(=O)O', 3.404002369297247),\n",
       " ('CSCCC(=O)N1CCCC1C(=O)O', 3.613205289055311),\n",
       " ('CC(CS)C(=O)N1CCCC1C(=O)O', 3.804751376555311),\n",
       " ('O=C(O)C1CCCN1C(=O)CCS', 3.8871106534610247),\n",
       " ('O=C(O)C1CCCN1C(=O)CCCS', 3.9220880467166013),\n",
       " ('CC(S)CC(=O)N1CCCC1C(=O)O', 3.9366697951036973),\n",
       " ('O=C(O)C1CCCN1C(=O)C1CSC1', 3.9784865729838823),\n",
       " ('CC(S)C(=O)N1CCCC1C(=O)O', 3.9938638051851627),\n",
       " ('CC(NCS)C(=O)N1CCCC1C(=O)O', 4.076862613435724),\n",
       " ('CC(C=S)C(=O)N1CCCC1C(=O)O', 4.161464339486345),\n",
       " ('CC(C(=O)N1CCCC1C(=O)O)C(O)S', 4.220099467161214),\n",
       " ('CC(S)C(C)C(=O)N1CCCC1C(=O)O', 4.2257588949773055),\n",
       " ('CC(C(=O)N1CCCC1C(=O)O)C(S)Br', 4.235814100494546),\n",
       " ('CC(C(=O)N1CCCC1C(=O)O)C(S)S', 4.276268757046271),\n",
       " ('CC(CSN)C(=O)N1CCCC1C(=O)O', 4.301058484023958),\n",
       " ('CC(COS)C(=O)N1CCCC1C(=O)O', 4.304767951403637),\n",
       " ('CC(CSBr)C(=O)N1CCCC1C(=O)O', 4.317625951403638),\n",
       " ('O=C(O)C1CCCN1C(=O)C1CC1S', 4.336516757110866),\n",
       " ('CSC(CS)C(=O)N1CCCC1C(=O)O', 4.361411975646062),\n",
       " ('CC(C(=O)N1CCCC1C(=O)O)C(S)I', 4.3714010271612125),\n",
       " ('O=C(O)C1CCCN1C(=O)C(CS)CBr', 4.404706288979395)]"
      ]
     },
     "execution_count": 11,
     "metadata": {},
     "output_type": "execute_result"
    }
   ],
   "source": [
    "tree.sortMorphs()\n",
    "\n",
    "[\n",
    "    (x.smiles, x.dist_to_target)\n",
    "    for idx,x in enumerate(tree.candidates)\n",
    "]"
   ]
  },
  {
   "cell_type": "code",
   "execution_count": 12,
   "metadata": {},
   "outputs": [
    {
     "name": "stdout",
     "output_type": "stream",
     "text": [
      "Old mask: (True, True, True, True, True, True, True, True, True, True, True, True, True, True, True, True, True, True, True, True, True, True)\n",
      "New mask: (True, True, True, True, True, True, True, True, True, True, False, False, False, False, False, False, False, False, False, False, False, False)\n",
      "Molecules that passed the filter:\n"
     ]
    },
    {
     "data": {
      "text/plain": [
       "[('CC(C)C(=O)N1CCCC1C(=O)O', 3.3191105796423788),\n",
       " ('CCC(C)C(=O)N1CCCC1C(=O)O', 3.404002369297247),\n",
       " ('CSCCC(=O)N1CCCC1C(=O)O', 3.613205289055311),\n",
       " ('CC(CS)C(=O)N1CCCC1C(=O)O', 3.804751376555311),\n",
       " ('O=C(O)C1CCCN1C(=O)CCS', 3.8871106534610247),\n",
       " ('O=C(O)C1CCCN1C(=O)CCCS', 3.9220880467166013),\n",
       " ('CC(S)CC(=O)N1CCCC1C(=O)O', 3.9366697951036973),\n",
       " ('O=C(O)C1CCCN1C(=O)C1CSC1', 3.9784865729838823),\n",
       " ('CC(S)C(=O)N1CCCC1C(=O)O', 3.9938638051851627),\n",
       " ('CC(NCS)C(=O)N1CCCC1C(=O)O', 4.076862613435724)]"
      ]
     },
     "execution_count": 12,
     "metadata": {},
     "output_type": "execute_result"
    }
   ],
   "source": [
    "# print the current candidates mask (all positions are on by default)\n",
    "print(\"Old mask:\", tree.candidates_mask)\n",
    "\n",
    "# accept only the first ten morphs in the sorted list (those with the lowest distance to target)\n",
    "new_mask = [True if idx < 10 else False for idx, x in enumerate(tree.candidates_mask)]\n",
    "\n",
    "# save the new mask to the tree\n",
    "tree.candidates_mask = new_mask\n",
    "\n",
    "# show results\n",
    "print(\"New mask:\", tree.candidates_mask)\n",
    "print(\"Molecules that passed the filter:\")\n",
    "[\n",
    "    (x.smiles, x.dist_to_target)\n",
    "    for idx,x in enumerate(tree.candidates)\n",
    "    if tree.candidates_mask[idx] # get molecules that passed the filter only\n",
    "]"
   ]
  },
  {
   "cell_type": "code",
   "execution_count": null,
   "metadata": {},
   "outputs": [],
   "source": [
    "from rdkit.Chem.Draw import MolsToGridImage\n",
    "\n",
    "def get_locked_atoms(mol):\n",
    "    return [(idx, atm) for idx, atm in enumerate(mol.atoms) if atm.is_locked]\n",
    "\n",
    "def show_mol_grid(mols):\n",
    "    locked_atoms = [[y[0] for y in get_locked_atoms(x)] for x in mols]\n",
    "    return MolsToGridImage(\n",
    "        [x.asRDMol() for x in mols]\n",
    "        , subImgSize=(250,200)\n",
    "        , highlightAtomLists=locked_atoms\n",
    "        , legends=[x.parent_operator for x in mols]\n",
    "    )\n",
    "\n",
    "mol = MolpherMol(\"captopril.sdf\")\n",
    "show_mol_grid([mol])"
   ]
  },
  {
   "cell_type": "code",
   "execution_count": null,
   "metadata": {},
   "outputs": [],
   "source": [
    "for idx, atom in enumerate(mol.atoms):\n",
    "    print(idx+1, atom.getLockingMask())"
   ]
  },
  {
   "cell_type": "code",
   "execution_count": null,
   "metadata": {},
   "outputs": [],
   "source": [
    "from molpher.core import ExplorationTree\n",
    "\n",
    "tree = ExplorationTree.create(source=mol)\n",
    "tree.generateMorphs()\n",
    "tree.sortMorphs()\n",
    "tree.filterMorphs()\n",
    "tree.extend()\n",
    "show_mol_grid(tree.leaves)"
   ]
  },
  {
   "cell_type": "code",
   "execution_count": null,
   "metadata": {},
   "outputs": [],
   "source": []
  }
 ],
 "metadata": {
  "kernelspec": {
   "display_name": "Python 3",
   "language": "python",
   "name": "python3"
  },
  "language_info": {
   "codemirror_mode": {
    "name": "ipython",
    "version": 3
   },
   "file_extension": ".py",
   "mimetype": "text/x-python",
   "name": "python",
   "nbconvert_exporter": "python",
   "pygments_lexer": "ipython3",
   "version": "3.6.5"
  }
 },
 "nbformat": 4,
 "nbformat_minor": 2
}
